{
  "nbformat": 4,
  "nbformat_minor": 0,
  "metadata": {
    "colab": {
      "provenance": [],
      "toc_visible": true,
      "collapsed_sections": [
        "p8YKzKLR5-Hd"
      ]
    },
    "kernelspec": {
      "name": "python3",
      "display_name": "Python 3"
    },
    "language_info": {
      "name": "python"
    },
    "widgets": {
      "application/vnd.jupyter.widget-state+json": {
        "842d38ce21984c82b5821efa89018e70": {
          "model_module": "@jupyter-widgets/controls",
          "model_name": "HBoxModel",
          "model_module_version": "1.5.0",
          "state": {
            "_dom_classes": [],
            "_model_module": "@jupyter-widgets/controls",
            "_model_module_version": "1.5.0",
            "_model_name": "HBoxModel",
            "_view_count": null,
            "_view_module": "@jupyter-widgets/controls",
            "_view_module_version": "1.5.0",
            "_view_name": "HBoxView",
            "box_style": "",
            "children": [
              "IPY_MODEL_11b3d3ef95164f919106d02b2ce6fa83",
              "IPY_MODEL_9aa5819dc3914e51a47d8429f1200e00",
              "IPY_MODEL_6d852a6b10774b9181345da6103c03c1"
            ],
            "layout": "IPY_MODEL_2ced7c00d13e4836b6e3e838ca0c0c70"
          }
        },
        "11b3d3ef95164f919106d02b2ce6fa83": {
          "model_module": "@jupyter-widgets/controls",
          "model_name": "HTMLModel",
          "model_module_version": "1.5.0",
          "state": {
            "_dom_classes": [],
            "_model_module": "@jupyter-widgets/controls",
            "_model_module_version": "1.5.0",
            "_model_name": "HTMLModel",
            "_view_count": null,
            "_view_module": "@jupyter-widgets/controls",
            "_view_module_version": "1.5.0",
            "_view_name": "HTMLView",
            "description": "",
            "description_tooltip": null,
            "layout": "IPY_MODEL_be56c939cf8944a29e3edb40816ff135",
            "placeholder": "​",
            "style": "IPY_MODEL_75d5544444b1468181fa2c090e236c10",
            "value": "Downloading (…)okenizer_config.json: 100%"
          }
        },
        "9aa5819dc3914e51a47d8429f1200e00": {
          "model_module": "@jupyter-widgets/controls",
          "model_name": "FloatProgressModel",
          "model_module_version": "1.5.0",
          "state": {
            "_dom_classes": [],
            "_model_module": "@jupyter-widgets/controls",
            "_model_module_version": "1.5.0",
            "_model_name": "FloatProgressModel",
            "_view_count": null,
            "_view_module": "@jupyter-widgets/controls",
            "_view_module_version": "1.5.0",
            "_view_name": "ProgressView",
            "bar_style": "success",
            "description": "",
            "description_tooltip": null,
            "layout": "IPY_MODEL_0ae46abff82e4836995a92f8f8bf165b",
            "max": 25,
            "min": 0,
            "orientation": "horizontal",
            "style": "IPY_MODEL_04821974dc174171b20b283d69c0ea6a",
            "value": 25
          }
        },
        "6d852a6b10774b9181345da6103c03c1": {
          "model_module": "@jupyter-widgets/controls",
          "model_name": "HTMLModel",
          "model_module_version": "1.5.0",
          "state": {
            "_dom_classes": [],
            "_model_module": "@jupyter-widgets/controls",
            "_model_module_version": "1.5.0",
            "_model_name": "HTMLModel",
            "_view_count": null,
            "_view_module": "@jupyter-widgets/controls",
            "_view_module_version": "1.5.0",
            "_view_name": "HTMLView",
            "description": "",
            "description_tooltip": null,
            "layout": "IPY_MODEL_e9f52a82fa47438a8df8bb91f78f1644",
            "placeholder": "​",
            "style": "IPY_MODEL_2087533c7bb246f49beea1dd8f9bd170",
            "value": " 25.0/25.0 [00:00&lt;00:00, 174B/s]"
          }
        },
        "2ced7c00d13e4836b6e3e838ca0c0c70": {
          "model_module": "@jupyter-widgets/base",
          "model_name": "LayoutModel",
          "model_module_version": "1.2.0",
          "state": {
            "_model_module": "@jupyter-widgets/base",
            "_model_module_version": "1.2.0",
            "_model_name": "LayoutModel",
            "_view_count": null,
            "_view_module": "@jupyter-widgets/base",
            "_view_module_version": "1.2.0",
            "_view_name": "LayoutView",
            "align_content": null,
            "align_items": null,
            "align_self": null,
            "border": null,
            "bottom": null,
            "display": null,
            "flex": null,
            "flex_flow": null,
            "grid_area": null,
            "grid_auto_columns": null,
            "grid_auto_flow": null,
            "grid_auto_rows": null,
            "grid_column": null,
            "grid_gap": null,
            "grid_row": null,
            "grid_template_areas": null,
            "grid_template_columns": null,
            "grid_template_rows": null,
            "height": null,
            "justify_content": null,
            "justify_items": null,
            "left": null,
            "margin": null,
            "max_height": null,
            "max_width": null,
            "min_height": null,
            "min_width": null,
            "object_fit": null,
            "object_position": null,
            "order": null,
            "overflow": null,
            "overflow_x": null,
            "overflow_y": null,
            "padding": null,
            "right": null,
            "top": null,
            "visibility": null,
            "width": null
          }
        },
        "be56c939cf8944a29e3edb40816ff135": {
          "model_module": "@jupyter-widgets/base",
          "model_name": "LayoutModel",
          "model_module_version": "1.2.0",
          "state": {
            "_model_module": "@jupyter-widgets/base",
            "_model_module_version": "1.2.0",
            "_model_name": "LayoutModel",
            "_view_count": null,
            "_view_module": "@jupyter-widgets/base",
            "_view_module_version": "1.2.0",
            "_view_name": "LayoutView",
            "align_content": null,
            "align_items": null,
            "align_self": null,
            "border": null,
            "bottom": null,
            "display": null,
            "flex": null,
            "flex_flow": null,
            "grid_area": null,
            "grid_auto_columns": null,
            "grid_auto_flow": null,
            "grid_auto_rows": null,
            "grid_column": null,
            "grid_gap": null,
            "grid_row": null,
            "grid_template_areas": null,
            "grid_template_columns": null,
            "grid_template_rows": null,
            "height": null,
            "justify_content": null,
            "justify_items": null,
            "left": null,
            "margin": null,
            "max_height": null,
            "max_width": null,
            "min_height": null,
            "min_width": null,
            "object_fit": null,
            "object_position": null,
            "order": null,
            "overflow": null,
            "overflow_x": null,
            "overflow_y": null,
            "padding": null,
            "right": null,
            "top": null,
            "visibility": null,
            "width": null
          }
        },
        "75d5544444b1468181fa2c090e236c10": {
          "model_module": "@jupyter-widgets/controls",
          "model_name": "DescriptionStyleModel",
          "model_module_version": "1.5.0",
          "state": {
            "_model_module": "@jupyter-widgets/controls",
            "_model_module_version": "1.5.0",
            "_model_name": "DescriptionStyleModel",
            "_view_count": null,
            "_view_module": "@jupyter-widgets/base",
            "_view_module_version": "1.2.0",
            "_view_name": "StyleView",
            "description_width": ""
          }
        },
        "0ae46abff82e4836995a92f8f8bf165b": {
          "model_module": "@jupyter-widgets/base",
          "model_name": "LayoutModel",
          "model_module_version": "1.2.0",
          "state": {
            "_model_module": "@jupyter-widgets/base",
            "_model_module_version": "1.2.0",
            "_model_name": "LayoutModel",
            "_view_count": null,
            "_view_module": "@jupyter-widgets/base",
            "_view_module_version": "1.2.0",
            "_view_name": "LayoutView",
            "align_content": null,
            "align_items": null,
            "align_self": null,
            "border": null,
            "bottom": null,
            "display": null,
            "flex": null,
            "flex_flow": null,
            "grid_area": null,
            "grid_auto_columns": null,
            "grid_auto_flow": null,
            "grid_auto_rows": null,
            "grid_column": null,
            "grid_gap": null,
            "grid_row": null,
            "grid_template_areas": null,
            "grid_template_columns": null,
            "grid_template_rows": null,
            "height": null,
            "justify_content": null,
            "justify_items": null,
            "left": null,
            "margin": null,
            "max_height": null,
            "max_width": null,
            "min_height": null,
            "min_width": null,
            "object_fit": null,
            "object_position": null,
            "order": null,
            "overflow": null,
            "overflow_x": null,
            "overflow_y": null,
            "padding": null,
            "right": null,
            "top": null,
            "visibility": null,
            "width": null
          }
        },
        "04821974dc174171b20b283d69c0ea6a": {
          "model_module": "@jupyter-widgets/controls",
          "model_name": "ProgressStyleModel",
          "model_module_version": "1.5.0",
          "state": {
            "_model_module": "@jupyter-widgets/controls",
            "_model_module_version": "1.5.0",
            "_model_name": "ProgressStyleModel",
            "_view_count": null,
            "_view_module": "@jupyter-widgets/base",
            "_view_module_version": "1.2.0",
            "_view_name": "StyleView",
            "bar_color": null,
            "description_width": ""
          }
        },
        "e9f52a82fa47438a8df8bb91f78f1644": {
          "model_module": "@jupyter-widgets/base",
          "model_name": "LayoutModel",
          "model_module_version": "1.2.0",
          "state": {
            "_model_module": "@jupyter-widgets/base",
            "_model_module_version": "1.2.0",
            "_model_name": "LayoutModel",
            "_view_count": null,
            "_view_module": "@jupyter-widgets/base",
            "_view_module_version": "1.2.0",
            "_view_name": "LayoutView",
            "align_content": null,
            "align_items": null,
            "align_self": null,
            "border": null,
            "bottom": null,
            "display": null,
            "flex": null,
            "flex_flow": null,
            "grid_area": null,
            "grid_auto_columns": null,
            "grid_auto_flow": null,
            "grid_auto_rows": null,
            "grid_column": null,
            "grid_gap": null,
            "grid_row": null,
            "grid_template_areas": null,
            "grid_template_columns": null,
            "grid_template_rows": null,
            "height": null,
            "justify_content": null,
            "justify_items": null,
            "left": null,
            "margin": null,
            "max_height": null,
            "max_width": null,
            "min_height": null,
            "min_width": null,
            "object_fit": null,
            "object_position": null,
            "order": null,
            "overflow": null,
            "overflow_x": null,
            "overflow_y": null,
            "padding": null,
            "right": null,
            "top": null,
            "visibility": null,
            "width": null
          }
        },
        "2087533c7bb246f49beea1dd8f9bd170": {
          "model_module": "@jupyter-widgets/controls",
          "model_name": "DescriptionStyleModel",
          "model_module_version": "1.5.0",
          "state": {
            "_model_module": "@jupyter-widgets/controls",
            "_model_module_version": "1.5.0",
            "_model_name": "DescriptionStyleModel",
            "_view_count": null,
            "_view_module": "@jupyter-widgets/base",
            "_view_module_version": "1.2.0",
            "_view_name": "StyleView",
            "description_width": ""
          }
        },
        "3ff8da5cad9d431dae0127b76f2fa7e6": {
          "model_module": "@jupyter-widgets/controls",
          "model_name": "HBoxModel",
          "model_module_version": "1.5.0",
          "state": {
            "_dom_classes": [],
            "_model_module": "@jupyter-widgets/controls",
            "_model_module_version": "1.5.0",
            "_model_name": "HBoxModel",
            "_view_count": null,
            "_view_module": "@jupyter-widgets/controls",
            "_view_module_version": "1.5.0",
            "_view_name": "HBoxView",
            "box_style": "",
            "children": [
              "IPY_MODEL_c3288b30ad074b26b7ce3aeb58652e69",
              "IPY_MODEL_b38720317e564ba09a90d58ff0e004a9",
              "IPY_MODEL_0250cb1b784f4f2a89aec135fc4fe37c"
            ],
            "layout": "IPY_MODEL_d157b6071ed94c79bc16ec854e03c3d5"
          }
        },
        "c3288b30ad074b26b7ce3aeb58652e69": {
          "model_module": "@jupyter-widgets/controls",
          "model_name": "HTMLModel",
          "model_module_version": "1.5.0",
          "state": {
            "_dom_classes": [],
            "_model_module": "@jupyter-widgets/controls",
            "_model_module_version": "1.5.0",
            "_model_name": "HTMLModel",
            "_view_count": null,
            "_view_module": "@jupyter-widgets/controls",
            "_view_module_version": "1.5.0",
            "_view_name": "HTMLView",
            "description": "",
            "description_tooltip": null,
            "layout": "IPY_MODEL_667644ea1e4b4728b89a8911a37ca848",
            "placeholder": "​",
            "style": "IPY_MODEL_9a302a5047ed434980bd850ee0520be5",
            "value": "Downloading (…)lve/main/config.json: 100%"
          }
        },
        "b38720317e564ba09a90d58ff0e004a9": {
          "model_module": "@jupyter-widgets/controls",
          "model_name": "FloatProgressModel",
          "model_module_version": "1.5.0",
          "state": {
            "_dom_classes": [],
            "_model_module": "@jupyter-widgets/controls",
            "_model_module_version": "1.5.0",
            "_model_name": "FloatProgressModel",
            "_view_count": null,
            "_view_module": "@jupyter-widgets/controls",
            "_view_module_version": "1.5.0",
            "_view_name": "ProgressView",
            "bar_style": "success",
            "description": "",
            "description_tooltip": null,
            "layout": "IPY_MODEL_6cb5f126ea2d4b20906347c716088a6d",
            "max": 736,
            "min": 0,
            "orientation": "horizontal",
            "style": "IPY_MODEL_70cf8f56c7554bd393241524161320c4",
            "value": 736
          }
        },
        "0250cb1b784f4f2a89aec135fc4fe37c": {
          "model_module": "@jupyter-widgets/controls",
          "model_name": "HTMLModel",
          "model_module_version": "1.5.0",
          "state": {
            "_dom_classes": [],
            "_model_module": "@jupyter-widgets/controls",
            "_model_module_version": "1.5.0",
            "_model_name": "HTMLModel",
            "_view_count": null,
            "_view_module": "@jupyter-widgets/controls",
            "_view_module_version": "1.5.0",
            "_view_name": "HTMLView",
            "description": "",
            "description_tooltip": null,
            "layout": "IPY_MODEL_e6d565f5ed834f57899bb8ea446db2ab",
            "placeholder": "​",
            "style": "IPY_MODEL_71fcd1e1662a4d399af14ba28a77c937",
            "value": " 736/736 [00:00&lt;00:00, 5.12kB/s]"
          }
        },
        "d157b6071ed94c79bc16ec854e03c3d5": {
          "model_module": "@jupyter-widgets/base",
          "model_name": "LayoutModel",
          "model_module_version": "1.2.0",
          "state": {
            "_model_module": "@jupyter-widgets/base",
            "_model_module_version": "1.2.0",
            "_model_name": "LayoutModel",
            "_view_count": null,
            "_view_module": "@jupyter-widgets/base",
            "_view_module_version": "1.2.0",
            "_view_name": "LayoutView",
            "align_content": null,
            "align_items": null,
            "align_self": null,
            "border": null,
            "bottom": null,
            "display": null,
            "flex": null,
            "flex_flow": null,
            "grid_area": null,
            "grid_auto_columns": null,
            "grid_auto_flow": null,
            "grid_auto_rows": null,
            "grid_column": null,
            "grid_gap": null,
            "grid_row": null,
            "grid_template_areas": null,
            "grid_template_columns": null,
            "grid_template_rows": null,
            "height": null,
            "justify_content": null,
            "justify_items": null,
            "left": null,
            "margin": null,
            "max_height": null,
            "max_width": null,
            "min_height": null,
            "min_width": null,
            "object_fit": null,
            "object_position": null,
            "order": null,
            "overflow": null,
            "overflow_x": null,
            "overflow_y": null,
            "padding": null,
            "right": null,
            "top": null,
            "visibility": null,
            "width": null
          }
        },
        "667644ea1e4b4728b89a8911a37ca848": {
          "model_module": "@jupyter-widgets/base",
          "model_name": "LayoutModel",
          "model_module_version": "1.2.0",
          "state": {
            "_model_module": "@jupyter-widgets/base",
            "_model_module_version": "1.2.0",
            "_model_name": "LayoutModel",
            "_view_count": null,
            "_view_module": "@jupyter-widgets/base",
            "_view_module_version": "1.2.0",
            "_view_name": "LayoutView",
            "align_content": null,
            "align_items": null,
            "align_self": null,
            "border": null,
            "bottom": null,
            "display": null,
            "flex": null,
            "flex_flow": null,
            "grid_area": null,
            "grid_auto_columns": null,
            "grid_auto_flow": null,
            "grid_auto_rows": null,
            "grid_column": null,
            "grid_gap": null,
            "grid_row": null,
            "grid_template_areas": null,
            "grid_template_columns": null,
            "grid_template_rows": null,
            "height": null,
            "justify_content": null,
            "justify_items": null,
            "left": null,
            "margin": null,
            "max_height": null,
            "max_width": null,
            "min_height": null,
            "min_width": null,
            "object_fit": null,
            "object_position": null,
            "order": null,
            "overflow": null,
            "overflow_x": null,
            "overflow_y": null,
            "padding": null,
            "right": null,
            "top": null,
            "visibility": null,
            "width": null
          }
        },
        "9a302a5047ed434980bd850ee0520be5": {
          "model_module": "@jupyter-widgets/controls",
          "model_name": "DescriptionStyleModel",
          "model_module_version": "1.5.0",
          "state": {
            "_model_module": "@jupyter-widgets/controls",
            "_model_module_version": "1.5.0",
            "_model_name": "DescriptionStyleModel",
            "_view_count": null,
            "_view_module": "@jupyter-widgets/base",
            "_view_module_version": "1.2.0",
            "_view_name": "StyleView",
            "description_width": ""
          }
        },
        "6cb5f126ea2d4b20906347c716088a6d": {
          "model_module": "@jupyter-widgets/base",
          "model_name": "LayoutModel",
          "model_module_version": "1.2.0",
          "state": {
            "_model_module": "@jupyter-widgets/base",
            "_model_module_version": "1.2.0",
            "_model_name": "LayoutModel",
            "_view_count": null,
            "_view_module": "@jupyter-widgets/base",
            "_view_module_version": "1.2.0",
            "_view_name": "LayoutView",
            "align_content": null,
            "align_items": null,
            "align_self": null,
            "border": null,
            "bottom": null,
            "display": null,
            "flex": null,
            "flex_flow": null,
            "grid_area": null,
            "grid_auto_columns": null,
            "grid_auto_flow": null,
            "grid_auto_rows": null,
            "grid_column": null,
            "grid_gap": null,
            "grid_row": null,
            "grid_template_areas": null,
            "grid_template_columns": null,
            "grid_template_rows": null,
            "height": null,
            "justify_content": null,
            "justify_items": null,
            "left": null,
            "margin": null,
            "max_height": null,
            "max_width": null,
            "min_height": null,
            "min_width": null,
            "object_fit": null,
            "object_position": null,
            "order": null,
            "overflow": null,
            "overflow_x": null,
            "overflow_y": null,
            "padding": null,
            "right": null,
            "top": null,
            "visibility": null,
            "width": null
          }
        },
        "70cf8f56c7554bd393241524161320c4": {
          "model_module": "@jupyter-widgets/controls",
          "model_name": "ProgressStyleModel",
          "model_module_version": "1.5.0",
          "state": {
            "_model_module": "@jupyter-widgets/controls",
            "_model_module_version": "1.5.0",
            "_model_name": "ProgressStyleModel",
            "_view_count": null,
            "_view_module": "@jupyter-widgets/base",
            "_view_module_version": "1.2.0",
            "_view_name": "StyleView",
            "bar_color": null,
            "description_width": ""
          }
        },
        "e6d565f5ed834f57899bb8ea446db2ab": {
          "model_module": "@jupyter-widgets/base",
          "model_name": "LayoutModel",
          "model_module_version": "1.2.0",
          "state": {
            "_model_module": "@jupyter-widgets/base",
            "_model_module_version": "1.2.0",
            "_model_name": "LayoutModel",
            "_view_count": null,
            "_view_module": "@jupyter-widgets/base",
            "_view_module_version": "1.2.0",
            "_view_name": "LayoutView",
            "align_content": null,
            "align_items": null,
            "align_self": null,
            "border": null,
            "bottom": null,
            "display": null,
            "flex": null,
            "flex_flow": null,
            "grid_area": null,
            "grid_auto_columns": null,
            "grid_auto_flow": null,
            "grid_auto_rows": null,
            "grid_column": null,
            "grid_gap": null,
            "grid_row": null,
            "grid_template_areas": null,
            "grid_template_columns": null,
            "grid_template_rows": null,
            "height": null,
            "justify_content": null,
            "justify_items": null,
            "left": null,
            "margin": null,
            "max_height": null,
            "max_width": null,
            "min_height": null,
            "min_width": null,
            "object_fit": null,
            "object_position": null,
            "order": null,
            "overflow": null,
            "overflow_x": null,
            "overflow_y": null,
            "padding": null,
            "right": null,
            "top": null,
            "visibility": null,
            "width": null
          }
        },
        "71fcd1e1662a4d399af14ba28a77c937": {
          "model_module": "@jupyter-widgets/controls",
          "model_name": "DescriptionStyleModel",
          "model_module_version": "1.5.0",
          "state": {
            "_model_module": "@jupyter-widgets/controls",
            "_model_module_version": "1.5.0",
            "_model_name": "DescriptionStyleModel",
            "_view_count": null,
            "_view_module": "@jupyter-widgets/base",
            "_view_module_version": "1.2.0",
            "_view_name": "StyleView",
            "description_width": ""
          }
        },
        "08505aceb66b48aca30267500a3d7b0b": {
          "model_module": "@jupyter-widgets/controls",
          "model_name": "HBoxModel",
          "model_module_version": "1.5.0",
          "state": {
            "_dom_classes": [],
            "_model_module": "@jupyter-widgets/controls",
            "_model_module_version": "1.5.0",
            "_model_name": "HBoxModel",
            "_view_count": null,
            "_view_module": "@jupyter-widgets/controls",
            "_view_module_version": "1.5.0",
            "_view_name": "HBoxView",
            "box_style": "",
            "children": [
              "IPY_MODEL_6e7a49e94c664351abb981f7171c43d4",
              "IPY_MODEL_2783f94424b847e0b9616a6d8b212154",
              "IPY_MODEL_1109f29a84e548bb8451292f4ebac557"
            ],
            "layout": "IPY_MODEL_b45383bcd7394965b0ee0b21c7130448"
          }
        },
        "6e7a49e94c664351abb981f7171c43d4": {
          "model_module": "@jupyter-widgets/controls",
          "model_name": "HTMLModel",
          "model_module_version": "1.5.0",
          "state": {
            "_dom_classes": [],
            "_model_module": "@jupyter-widgets/controls",
            "_model_module_version": "1.5.0",
            "_model_name": "HTMLModel",
            "_view_count": null,
            "_view_module": "@jupyter-widgets/controls",
            "_view_module_version": "1.5.0",
            "_view_name": "HTMLView",
            "description": "",
            "description_tooltip": null,
            "layout": "IPY_MODEL_29689218f53446ce890ac5fdd73788ee",
            "placeholder": "​",
            "style": "IPY_MODEL_f99202f393dc433eac9fdcd8901d1bc1",
            "value": "Downloading (…)ve/main/spiece.model: 100%"
          }
        },
        "2783f94424b847e0b9616a6d8b212154": {
          "model_module": "@jupyter-widgets/controls",
          "model_name": "FloatProgressModel",
          "model_module_version": "1.5.0",
          "state": {
            "_dom_classes": [],
            "_model_module": "@jupyter-widgets/controls",
            "_model_module_version": "1.5.0",
            "_model_name": "FloatProgressModel",
            "_view_count": null,
            "_view_module": "@jupyter-widgets/controls",
            "_view_module_version": "1.5.0",
            "_view_name": "ProgressView",
            "bar_style": "success",
            "description": "",
            "description_tooltip": null,
            "layout": "IPY_MODEL_15ba75fa61b4470fb4cda5143126cc1d",
            "max": 791656,
            "min": 0,
            "orientation": "horizontal",
            "style": "IPY_MODEL_63de00681c6b4317a0a49ef8c30a7962",
            "value": 791656
          }
        },
        "1109f29a84e548bb8451292f4ebac557": {
          "model_module": "@jupyter-widgets/controls",
          "model_name": "HTMLModel",
          "model_module_version": "1.5.0",
          "state": {
            "_dom_classes": [],
            "_model_module": "@jupyter-widgets/controls",
            "_model_module_version": "1.5.0",
            "_model_name": "HTMLModel",
            "_view_count": null,
            "_view_module": "@jupyter-widgets/controls",
            "_view_module_version": "1.5.0",
            "_view_name": "HTMLView",
            "description": "",
            "description_tooltip": null,
            "layout": "IPY_MODEL_47960c15d7a8459291b1d99754409679",
            "placeholder": "​",
            "style": "IPY_MODEL_87f07130e0b14c3ba46d9aaf037688cd",
            "value": " 792k/792k [00:00&lt;00:00, 7.96MB/s]"
          }
        },
        "b45383bcd7394965b0ee0b21c7130448": {
          "model_module": "@jupyter-widgets/base",
          "model_name": "LayoutModel",
          "model_module_version": "1.2.0",
          "state": {
            "_model_module": "@jupyter-widgets/base",
            "_model_module_version": "1.2.0",
            "_model_name": "LayoutModel",
            "_view_count": null,
            "_view_module": "@jupyter-widgets/base",
            "_view_module_version": "1.2.0",
            "_view_name": "LayoutView",
            "align_content": null,
            "align_items": null,
            "align_self": null,
            "border": null,
            "bottom": null,
            "display": null,
            "flex": null,
            "flex_flow": null,
            "grid_area": null,
            "grid_auto_columns": null,
            "grid_auto_flow": null,
            "grid_auto_rows": null,
            "grid_column": null,
            "grid_gap": null,
            "grid_row": null,
            "grid_template_areas": null,
            "grid_template_columns": null,
            "grid_template_rows": null,
            "height": null,
            "justify_content": null,
            "justify_items": null,
            "left": null,
            "margin": null,
            "max_height": null,
            "max_width": null,
            "min_height": null,
            "min_width": null,
            "object_fit": null,
            "object_position": null,
            "order": null,
            "overflow": null,
            "overflow_x": null,
            "overflow_y": null,
            "padding": null,
            "right": null,
            "top": null,
            "visibility": null,
            "width": null
          }
        },
        "29689218f53446ce890ac5fdd73788ee": {
          "model_module": "@jupyter-widgets/base",
          "model_name": "LayoutModel",
          "model_module_version": "1.2.0",
          "state": {
            "_model_module": "@jupyter-widgets/base",
            "_model_module_version": "1.2.0",
            "_model_name": "LayoutModel",
            "_view_count": null,
            "_view_module": "@jupyter-widgets/base",
            "_view_module_version": "1.2.0",
            "_view_name": "LayoutView",
            "align_content": null,
            "align_items": null,
            "align_self": null,
            "border": null,
            "bottom": null,
            "display": null,
            "flex": null,
            "flex_flow": null,
            "grid_area": null,
            "grid_auto_columns": null,
            "grid_auto_flow": null,
            "grid_auto_rows": null,
            "grid_column": null,
            "grid_gap": null,
            "grid_row": null,
            "grid_template_areas": null,
            "grid_template_columns": null,
            "grid_template_rows": null,
            "height": null,
            "justify_content": null,
            "justify_items": null,
            "left": null,
            "margin": null,
            "max_height": null,
            "max_width": null,
            "min_height": null,
            "min_width": null,
            "object_fit": null,
            "object_position": null,
            "order": null,
            "overflow": null,
            "overflow_x": null,
            "overflow_y": null,
            "padding": null,
            "right": null,
            "top": null,
            "visibility": null,
            "width": null
          }
        },
        "f99202f393dc433eac9fdcd8901d1bc1": {
          "model_module": "@jupyter-widgets/controls",
          "model_name": "DescriptionStyleModel",
          "model_module_version": "1.5.0",
          "state": {
            "_model_module": "@jupyter-widgets/controls",
            "_model_module_version": "1.5.0",
            "_model_name": "DescriptionStyleModel",
            "_view_count": null,
            "_view_module": "@jupyter-widgets/base",
            "_view_module_version": "1.2.0",
            "_view_name": "StyleView",
            "description_width": ""
          }
        },
        "15ba75fa61b4470fb4cda5143126cc1d": {
          "model_module": "@jupyter-widgets/base",
          "model_name": "LayoutModel",
          "model_module_version": "1.2.0",
          "state": {
            "_model_module": "@jupyter-widgets/base",
            "_model_module_version": "1.2.0",
            "_model_name": "LayoutModel",
            "_view_count": null,
            "_view_module": "@jupyter-widgets/base",
            "_view_module_version": "1.2.0",
            "_view_name": "LayoutView",
            "align_content": null,
            "align_items": null,
            "align_self": null,
            "border": null,
            "bottom": null,
            "display": null,
            "flex": null,
            "flex_flow": null,
            "grid_area": null,
            "grid_auto_columns": null,
            "grid_auto_flow": null,
            "grid_auto_rows": null,
            "grid_column": null,
            "grid_gap": null,
            "grid_row": null,
            "grid_template_areas": null,
            "grid_template_columns": null,
            "grid_template_rows": null,
            "height": null,
            "justify_content": null,
            "justify_items": null,
            "left": null,
            "margin": null,
            "max_height": null,
            "max_width": null,
            "min_height": null,
            "min_width": null,
            "object_fit": null,
            "object_position": null,
            "order": null,
            "overflow": null,
            "overflow_x": null,
            "overflow_y": null,
            "padding": null,
            "right": null,
            "top": null,
            "visibility": null,
            "width": null
          }
        },
        "63de00681c6b4317a0a49ef8c30a7962": {
          "model_module": "@jupyter-widgets/controls",
          "model_name": "ProgressStyleModel",
          "model_module_version": "1.5.0",
          "state": {
            "_model_module": "@jupyter-widgets/controls",
            "_model_module_version": "1.5.0",
            "_model_name": "ProgressStyleModel",
            "_view_count": null,
            "_view_module": "@jupyter-widgets/base",
            "_view_module_version": "1.2.0",
            "_view_name": "StyleView",
            "bar_color": null,
            "description_width": ""
          }
        },
        "47960c15d7a8459291b1d99754409679": {
          "model_module": "@jupyter-widgets/base",
          "model_name": "LayoutModel",
          "model_module_version": "1.2.0",
          "state": {
            "_model_module": "@jupyter-widgets/base",
            "_model_module_version": "1.2.0",
            "_model_name": "LayoutModel",
            "_view_count": null,
            "_view_module": "@jupyter-widgets/base",
            "_view_module_version": "1.2.0",
            "_view_name": "LayoutView",
            "align_content": null,
            "align_items": null,
            "align_self": null,
            "border": null,
            "bottom": null,
            "display": null,
            "flex": null,
            "flex_flow": null,
            "grid_area": null,
            "grid_auto_columns": null,
            "grid_auto_flow": null,
            "grid_auto_rows": null,
            "grid_column": null,
            "grid_gap": null,
            "grid_row": null,
            "grid_template_areas": null,
            "grid_template_columns": null,
            "grid_template_rows": null,
            "height": null,
            "justify_content": null,
            "justify_items": null,
            "left": null,
            "margin": null,
            "max_height": null,
            "max_width": null,
            "min_height": null,
            "min_width": null,
            "object_fit": null,
            "object_position": null,
            "order": null,
            "overflow": null,
            "overflow_x": null,
            "overflow_y": null,
            "padding": null,
            "right": null,
            "top": null,
            "visibility": null,
            "width": null
          }
        },
        "87f07130e0b14c3ba46d9aaf037688cd": {
          "model_module": "@jupyter-widgets/controls",
          "model_name": "DescriptionStyleModel",
          "model_module_version": "1.5.0",
          "state": {
            "_model_module": "@jupyter-widgets/controls",
            "_model_module_version": "1.5.0",
            "_model_name": "DescriptionStyleModel",
            "_view_count": null,
            "_view_module": "@jupyter-widgets/base",
            "_view_module_version": "1.2.0",
            "_view_name": "StyleView",
            "description_width": ""
          }
        },
        "b443d64066a844f69e45e57431869f98": {
          "model_module": "@jupyter-widgets/controls",
          "model_name": "HBoxModel",
          "model_module_version": "1.5.0",
          "state": {
            "_dom_classes": [],
            "_model_module": "@jupyter-widgets/controls",
            "_model_module_version": "1.5.0",
            "_model_name": "HBoxModel",
            "_view_count": null,
            "_view_module": "@jupyter-widgets/controls",
            "_view_module_version": "1.5.0",
            "_view_name": "HBoxView",
            "box_style": "",
            "children": [
              "IPY_MODEL_e10a9f6f270746d986e54867903c5117",
              "IPY_MODEL_fb8a272e9e3a4732be59208a7a056cee",
              "IPY_MODEL_937ac428dcb842d180d9ace83faeacce"
            ],
            "layout": "IPY_MODEL_621662243a9c4bfe994a4f976d78dbdf"
          }
        },
        "e10a9f6f270746d986e54867903c5117": {
          "model_module": "@jupyter-widgets/controls",
          "model_name": "HTMLModel",
          "model_module_version": "1.5.0",
          "state": {
            "_dom_classes": [],
            "_model_module": "@jupyter-widgets/controls",
            "_model_module_version": "1.5.0",
            "_model_name": "HTMLModel",
            "_view_count": null,
            "_view_module": "@jupyter-widgets/controls",
            "_view_module_version": "1.5.0",
            "_view_name": "HTMLView",
            "description": "",
            "description_tooltip": null,
            "layout": "IPY_MODEL_d7fae251388345be8502b14939b0d087",
            "placeholder": "​",
            "style": "IPY_MODEL_bc5cb7bbbcf3474c84aa096ff26a5006",
            "value": "Downloading (…)cial_tokens_map.json: 100%"
          }
        },
        "fb8a272e9e3a4732be59208a7a056cee": {
          "model_module": "@jupyter-widgets/controls",
          "model_name": "FloatProgressModel",
          "model_module_version": "1.5.0",
          "state": {
            "_dom_classes": [],
            "_model_module": "@jupyter-widgets/controls",
            "_model_module_version": "1.5.0",
            "_model_name": "FloatProgressModel",
            "_view_count": null,
            "_view_module": "@jupyter-widgets/controls",
            "_view_module_version": "1.5.0",
            "_view_name": "ProgressView",
            "bar_style": "success",
            "description": "",
            "description_tooltip": null,
            "layout": "IPY_MODEL_78f56881c3ea4f3487ea46586ec252f2",
            "max": 1786,
            "min": 0,
            "orientation": "horizontal",
            "style": "IPY_MODEL_541adb0d66e64dec8275231fbe05db72",
            "value": 1786
          }
        },
        "937ac428dcb842d180d9ace83faeacce": {
          "model_module": "@jupyter-widgets/controls",
          "model_name": "HTMLModel",
          "model_module_version": "1.5.0",
          "state": {
            "_dom_classes": [],
            "_model_module": "@jupyter-widgets/controls",
            "_model_module_version": "1.5.0",
            "_model_name": "HTMLModel",
            "_view_count": null,
            "_view_module": "@jupyter-widgets/controls",
            "_view_module_version": "1.5.0",
            "_view_name": "HTMLView",
            "description": "",
            "description_tooltip": null,
            "layout": "IPY_MODEL_db22de546fd740a6abf34ed2c11b5f22",
            "placeholder": "​",
            "style": "IPY_MODEL_04d61687b0914cdba2bc0d674a9a5912",
            "value": " 1.79k/1.79k [00:00&lt;00:00, 62.7kB/s]"
          }
        },
        "621662243a9c4bfe994a4f976d78dbdf": {
          "model_module": "@jupyter-widgets/base",
          "model_name": "LayoutModel",
          "model_module_version": "1.2.0",
          "state": {
            "_model_module": "@jupyter-widgets/base",
            "_model_module_version": "1.2.0",
            "_model_name": "LayoutModel",
            "_view_count": null,
            "_view_module": "@jupyter-widgets/base",
            "_view_module_version": "1.2.0",
            "_view_name": "LayoutView",
            "align_content": null,
            "align_items": null,
            "align_self": null,
            "border": null,
            "bottom": null,
            "display": null,
            "flex": null,
            "flex_flow": null,
            "grid_area": null,
            "grid_auto_columns": null,
            "grid_auto_flow": null,
            "grid_auto_rows": null,
            "grid_column": null,
            "grid_gap": null,
            "grid_row": null,
            "grid_template_areas": null,
            "grid_template_columns": null,
            "grid_template_rows": null,
            "height": null,
            "justify_content": null,
            "justify_items": null,
            "left": null,
            "margin": null,
            "max_height": null,
            "max_width": null,
            "min_height": null,
            "min_width": null,
            "object_fit": null,
            "object_position": null,
            "order": null,
            "overflow": null,
            "overflow_x": null,
            "overflow_y": null,
            "padding": null,
            "right": null,
            "top": null,
            "visibility": null,
            "width": null
          }
        },
        "d7fae251388345be8502b14939b0d087": {
          "model_module": "@jupyter-widgets/base",
          "model_name": "LayoutModel",
          "model_module_version": "1.2.0",
          "state": {
            "_model_module": "@jupyter-widgets/base",
            "_model_module_version": "1.2.0",
            "_model_name": "LayoutModel",
            "_view_count": null,
            "_view_module": "@jupyter-widgets/base",
            "_view_module_version": "1.2.0",
            "_view_name": "LayoutView",
            "align_content": null,
            "align_items": null,
            "align_self": null,
            "border": null,
            "bottom": null,
            "display": null,
            "flex": null,
            "flex_flow": null,
            "grid_area": null,
            "grid_auto_columns": null,
            "grid_auto_flow": null,
            "grid_auto_rows": null,
            "grid_column": null,
            "grid_gap": null,
            "grid_row": null,
            "grid_template_areas": null,
            "grid_template_columns": null,
            "grid_template_rows": null,
            "height": null,
            "justify_content": null,
            "justify_items": null,
            "left": null,
            "margin": null,
            "max_height": null,
            "max_width": null,
            "min_height": null,
            "min_width": null,
            "object_fit": null,
            "object_position": null,
            "order": null,
            "overflow": null,
            "overflow_x": null,
            "overflow_y": null,
            "padding": null,
            "right": null,
            "top": null,
            "visibility": null,
            "width": null
          }
        },
        "bc5cb7bbbcf3474c84aa096ff26a5006": {
          "model_module": "@jupyter-widgets/controls",
          "model_name": "DescriptionStyleModel",
          "model_module_version": "1.5.0",
          "state": {
            "_model_module": "@jupyter-widgets/controls",
            "_model_module_version": "1.5.0",
            "_model_name": "DescriptionStyleModel",
            "_view_count": null,
            "_view_module": "@jupyter-widgets/base",
            "_view_module_version": "1.2.0",
            "_view_name": "StyleView",
            "description_width": ""
          }
        },
        "78f56881c3ea4f3487ea46586ec252f2": {
          "model_module": "@jupyter-widgets/base",
          "model_name": "LayoutModel",
          "model_module_version": "1.2.0",
          "state": {
            "_model_module": "@jupyter-widgets/base",
            "_model_module_version": "1.2.0",
            "_model_name": "LayoutModel",
            "_view_count": null,
            "_view_module": "@jupyter-widgets/base",
            "_view_module_version": "1.2.0",
            "_view_name": "LayoutView",
            "align_content": null,
            "align_items": null,
            "align_self": null,
            "border": null,
            "bottom": null,
            "display": null,
            "flex": null,
            "flex_flow": null,
            "grid_area": null,
            "grid_auto_columns": null,
            "grid_auto_flow": null,
            "grid_auto_rows": null,
            "grid_column": null,
            "grid_gap": null,
            "grid_row": null,
            "grid_template_areas": null,
            "grid_template_columns": null,
            "grid_template_rows": null,
            "height": null,
            "justify_content": null,
            "justify_items": null,
            "left": null,
            "margin": null,
            "max_height": null,
            "max_width": null,
            "min_height": null,
            "min_width": null,
            "object_fit": null,
            "object_position": null,
            "order": null,
            "overflow": null,
            "overflow_x": null,
            "overflow_y": null,
            "padding": null,
            "right": null,
            "top": null,
            "visibility": null,
            "width": null
          }
        },
        "541adb0d66e64dec8275231fbe05db72": {
          "model_module": "@jupyter-widgets/controls",
          "model_name": "ProgressStyleModel",
          "model_module_version": "1.5.0",
          "state": {
            "_model_module": "@jupyter-widgets/controls",
            "_model_module_version": "1.5.0",
            "_model_name": "ProgressStyleModel",
            "_view_count": null,
            "_view_module": "@jupyter-widgets/base",
            "_view_module_version": "1.2.0",
            "_view_name": "StyleView",
            "bar_color": null,
            "description_width": ""
          }
        },
        "db22de546fd740a6abf34ed2c11b5f22": {
          "model_module": "@jupyter-widgets/base",
          "model_name": "LayoutModel",
          "model_module_version": "1.2.0",
          "state": {
            "_model_module": "@jupyter-widgets/base",
            "_model_module_version": "1.2.0",
            "_model_name": "LayoutModel",
            "_view_count": null,
            "_view_module": "@jupyter-widgets/base",
            "_view_module_version": "1.2.0",
            "_view_name": "LayoutView",
            "align_content": null,
            "align_items": null,
            "align_self": null,
            "border": null,
            "bottom": null,
            "display": null,
            "flex": null,
            "flex_flow": null,
            "grid_area": null,
            "grid_auto_columns": null,
            "grid_auto_flow": null,
            "grid_auto_rows": null,
            "grid_column": null,
            "grid_gap": null,
            "grid_row": null,
            "grid_template_areas": null,
            "grid_template_columns": null,
            "grid_template_rows": null,
            "height": null,
            "justify_content": null,
            "justify_items": null,
            "left": null,
            "margin": null,
            "max_height": null,
            "max_width": null,
            "min_height": null,
            "min_width": null,
            "object_fit": null,
            "object_position": null,
            "order": null,
            "overflow": null,
            "overflow_x": null,
            "overflow_y": null,
            "padding": null,
            "right": null,
            "top": null,
            "visibility": null,
            "width": null
          }
        },
        "04d61687b0914cdba2bc0d674a9a5912": {
          "model_module": "@jupyter-widgets/controls",
          "model_name": "DescriptionStyleModel",
          "model_module_version": "1.5.0",
          "state": {
            "_model_module": "@jupyter-widgets/controls",
            "_model_module_version": "1.5.0",
            "_model_name": "DescriptionStyleModel",
            "_view_count": null,
            "_view_module": "@jupyter-widgets/base",
            "_view_module_version": "1.2.0",
            "_view_name": "StyleView",
            "description_width": ""
          }
        }
      }
    }
  },
  "cells": [
    {
      "cell_type": "markdown",
      "source": [
        "# Working with the Transformers Library for Different Natural Language Processing Tasks\n"
      ],
      "metadata": {
        "id": "fOOMgtAuDi4Y"
      }
    },
    {
      "cell_type": "markdown",
      "source": [
        "Within this notebook we will use the the **Transformers Library** by [Hugging Face](https://huggingface.co/). The library consists of thousands of pre-trained models many of which are trained on huge datasets for thousands of GPU hours. You can use them either directly for inference (as we will do in this lab session) or fine-tune them for your specific applications. Using pre-trained models allows you to reduce your compute costs and carbon footprint and save time and resources required to develop a model from scratch.\n",
        "\n",
        "For creating user interfaces we will use Gradio which you already know from the previous session on using ML APIs."
      ],
      "metadata": {
        "id": "NqLMXQQ03WIM"
      }
    },
    {
      "cell_type": "code",
      "execution_count": null,
      "metadata": {
        "id": "0NlOTG_js8m0"
      },
      "outputs": [],
      "source": [
        "!pip install gradio\n",
        "!pip install transformers[sentencepiece]\n",
        "!pip install transformers\n",
        "!pip install torch"
      ]
    },
    {
      "cell_type": "markdown",
      "source": [
        "The HuggingFace [ModelHub](https://huggingface.co/models) consists of various pre-trained models for different tasks which can be downloaded and used easily using the Transformers Library. "
      ],
      "metadata": {
        "id": "tOTJNeSN5_fK"
      }
    },
    {
      "cell_type": "markdown",
      "source": [
        "##  Transformers for Translation Tasks"
      ],
      "metadata": {
        "id": "TL2GbiyXLbYL"
      }
    },
    {
      "cell_type": "markdown",
      "source": [
        "The easiest way to use a pre-trained model for inference is the **pipeline**. The pipeline can be used out-of-the box for many tasks across modalities (e.g., text, images, etc.). In this lab session we will look into a subset including translation and text classification.\n",
        "\n",
        "<table>\n",
        "  <tr>\n",
        "    <th>Task</th>\n",
        "    <th>Description</th>\n",
        "    <th>Pipeline identifier</th>\n",
        "  </tr>\n",
        "  <tr>\n",
        "    <td>Translation</td>\n",
        "    <td>translate text from one language into another</td>\n",
        "    <td>pipeline(task=“translation”)</td>\n",
        "  </tr>\n",
        "  <tr>\n",
        "    <td>Text classification</td>\n",
        "    <td>assign a label to a given sequence of text</td>\n",
        "    <td>pipeline(task=“sentiment-analysis”)</td>\n",
        "  </tr>\n",
        "  <tr>\n",
        "    <td>Text generation</td>\n",
        "    <td>generate text that follows a given prompt</td>\n",
        "    <td>pipeline(task=“text-generation”)</td>\n",
        "  </tr>\n",
        "  <tr>\n",
        "    <td>Image Classification</td>\n",
        "    <td>assign a label to an image</td>\n",
        "    <td>pipeline(task=“image-classification”)</td>\n",
        "  </tr>\n",
        "</table>\n",
        "\n",
        "For a comprehensive overview you can click [here](https://huggingface.co/docs/transformers/main/en/quicktour#pipeline).\n"
      ],
      "metadata": {
        "id": "YYieC5X47Gfl"
      }
    },
    {
      "cell_type": "markdown",
      "source": [
        "As a first example we will explore the pipeline for translating text from one language to another one (use `pipeline(\"translation_xx_to_yy\")`) For example, to translate from English to German you can use `pipeline(\"translation_en_to_de\")`. \n",
        "\n",
        "The pipeline downloads and caches a default pretrained model. You can then use it on your target text, e.g., `response = translator(text)`.  "
      ],
      "metadata": {
        "id": "M7P3zBzF_XjI"
      }
    },
    {
      "cell_type": "code",
      "source": [
        "from transformers import pipeline\n",
        "\n",
        "translator = pipeline(\"translation_en_to_de\")\n",
        "\n",
        "input_text = \"Transformers provides APIs and tools to easily download and train state-of-the-art pretrained models. Using pretrained models can reduce your compute costs, carbon footprint, and save you the time and resources required to train a model from scratch. \"\n",
        "translated_text = translator(input_text)\n",
        "print(translated_text)"
      ],
      "metadata": {
        "id": "fYK429avs9qV"
      },
      "execution_count": null,
      "outputs": []
    },
    {
      "cell_type": "markdown",
      "source": [
        "Rather than using a default model, we will now use a **specific model** for the translation task and pass the model, which should be used for the translation to the pipeline as parameter. \n",
        "\n",
        "We will use `mdl_name = \"Helsinki-NLP/opus-mt-en-de\"`. You can find details concerning the model on its [model card](https://huggingface.co/Helsinki-NLP/opus-mt-en-de) in the ModelHub."
      ],
      "metadata": {
        "id": "a3JR2dZjBIDG"
      }
    },
    {
      "cell_type": "code",
      "source": [
        "mdl_name = \"Helsinki-NLP/opus-mt-en-de\"\n",
        "translator = pipeline(\"translation\", model=mdl_name)\n",
        "\n",
        "input_text = \"Transformers provides APIs and tools to easily download and train state-of-the-art pretrained models. Using pretrained models can reduce your compute costs, carbon footprint, and save you the time and resources required to train a model from scratch. \"\n",
        "translated_text = translator(input_text)\n",
        "print(translated_text)"
      ],
      "metadata": {
        "id": "Ptw8YMDKA6ng"
      },
      "execution_count": null,
      "outputs": []
    },
    {
      "cell_type": "markdown",
      "source": [
        "The Gradio library which we already used during the last session allows to load almost every model on HuggingFace. For this, we use the class level method `load` (i.e., `gradio.Interface.load(name, ···)`). The input and output components of the user interface are then automatically loaded from the repository. "
      ],
      "metadata": {
        "id": "h2TK5TinDjAB"
      }
    },
    {
      "cell_type": "code",
      "source": [
        "import gradio as grad\n",
        "\n",
        "grad.Interface.load(\"huggingface/Helsinki-NLP/opus-mt-en-de\").launch()"
      ],
      "metadata": {
        "id": "BvfaAAHkAmMf"
      },
      "execution_count": null,
      "outputs": []
    },
    {
      "cell_type": "markdown",
      "source": [
        "Alternatively, we can also load the user interface from a pipeline. For this, we use the class level method `from_pipeline` (i.e., `gradio.Interface.from_pipeline(name, ···)`). The input and output components of the user interface are then automatically determined from the pipeline. "
      ],
      "metadata": {
        "id": "cLrMk4Rg0Df5"
      }
    },
    {
      "cell_type": "code",
      "source": [
        "import gradio as grad\n",
        "\n",
        "grad.Interface.from_pipeline(translator).launch()"
      ],
      "metadata": {
        "id": "RZYCPZok0D9v"
      },
      "execution_count": null,
      "outputs": []
    },
    {
      "cell_type": "markdown",
      "source": [
        "You can configure title and description of the user interface and also provide examples"
      ],
      "metadata": {
        "id": "bt-9jtnT0gsH"
      }
    },
    {
      "cell_type": "code",
      "source": [
        "import gradio as grad\n",
        "\n",
        "title = \"Translation\"\n",
        "description = \"Translates text from English to German ... \"\n",
        "examples = [[\"Transformers provides APIs and tools to easily download and train state-of-the-art pretrained models. Using pretrained models can reduce your compute costs, carbon footprint, and save you the time and resources required to train a model from scratch.\"]]\n",
        "\n",
        "grad.Interface.from_pipeline(translator, title=title, description=description, examples=examples).launch()"
      ],
      "metadata": {
        "id": "NaUYLdkW1Hg6",
        "outputId": "0fbbf0f4-b30d-414d-d9b7-761ceeb8c32a",
        "colab": {
          "base_uri": "https://localhost:8080/",
          "height": 619
        }
      },
      "execution_count": null,
      "outputs": [
        {
          "output_type": "stream",
          "name": "stdout",
          "text": [
            "Colab notebook detected. To show errors in colab notebook, set debug=True in launch()\n",
            "Note: opening Chrome Inspector may crash demo inside Colab notebooks.\n",
            "\n",
            "To create a public link, set `share=True` in `launch()`.\n"
          ]
        },
        {
          "output_type": "display_data",
          "data": {
            "text/plain": [
              "<IPython.core.display.Javascript object>"
            ],
            "application/javascript": [
              "(async (port, path, width, height, cache, element) => {\n",
              "                        if (!google.colab.kernel.accessAllowed && !cache) {\n",
              "                            return;\n",
              "                        }\n",
              "                        element.appendChild(document.createTextNode(''));\n",
              "                        const url = await google.colab.kernel.proxyPort(port, {cache});\n",
              "\n",
              "                        const external_link = document.createElement('div');\n",
              "                        external_link.innerHTML = `\n",
              "                            <div style=\"font-family: monospace; margin-bottom: 0.5rem\">\n",
              "                                Running on <a href=${new URL(path, url).toString()} target=\"_blank\">\n",
              "                                    https://localhost:${port}${path}\n",
              "                                </a>\n",
              "                            </div>\n",
              "                        `;\n",
              "                        element.appendChild(external_link);\n",
              "\n",
              "                        const iframe = document.createElement('iframe');\n",
              "                        iframe.src = new URL(path, url).toString();\n",
              "                        iframe.height = height;\n",
              "                        iframe.allow = \"autoplay; camera; microphone; clipboard-read; clipboard-write;\"\n",
              "                        iframe.width = width;\n",
              "                        iframe.style.border = 0;\n",
              "                        element.appendChild(iframe);\n",
              "                    })(7868, \"/\", \"100%\", 500, false, window.element)"
            ]
          },
          "metadata": {}
        },
        {
          "output_type": "execute_result",
          "data": {
            "text/plain": []
          },
          "metadata": {},
          "execution_count": 36
        }
      ]
    },
    {
      "cell_type": "markdown",
      "source": [
        "##  Transformers for Text Classification "
      ],
      "metadata": {
        "id": "Yhj9DS8NL6X8"
      }
    },
    {
      "cell_type": "markdown",
      "source": [
        "In a next step we use the Transformers library for a text classification task (using `pipeline(\"sentiment-analysis\")`). As model we use a specific model (i.e., \n",
        "`mdl_name = \"siebert/sentiment-roberta-large-english\"`), which is a fine-tuned checkpoint of a RoBERTa large model. "
      ],
      "metadata": {
        "id": "w0JThuAOE3Ki"
      }
    },
    {
      "cell_type": "code",
      "source": [
        "from transformers import pipeline\n",
        "import gradio as grad\n",
        "\n",
        "mdl_name = \"siebert/sentiment-roberta-large-english\"\n",
        "roberta_pipe = pipeline(\"sentiment-analysis\", model=mdl_name)\n",
        "\n",
        "title = \"Sentiment Analysis\"\n",
        "description = \"assigns a label to a given sequence of text ... \"\n",
        "examples = [[\"I am super happy today\"], [\"The weather is awful\"],]\n",
        "\n",
        "grad.Interface.from_pipeline(roberta_pipe, title=title, description=description, examples=examples).launch(debug=True)"
      ],
      "metadata": {
        "id": "zGC_QC51_dnH"
      },
      "execution_count": null,
      "outputs": []
    },
    {
      "cell_type": "markdown",
      "source": [
        "##  Transformers for Text Generation"
      ],
      "metadata": {
        "id": "HK-WMfaXFH0l"
      }
    },
    {
      "cell_type": "markdown",
      "source": [
        "In a next step we use the Transformers library for a text generation task (using `pipeline(\"text-generation\")`).\n",
        "\n",
        "As model we use a specific model (i.e., `model = \"GPT2\"`). We will configure the `generator` by limiting the length of the output (using `max_length`) and by specifying the number of sequences that should be generated (using `num_return_sequences`)."
      ],
      "metadata": {
        "id": "sG6EZEbwGGpz"
      }
    },
    {
      "cell_type": "code",
      "source": [
        "from transformers import pipeline, set_seed\n",
        "import gradio as grad\n",
        "\n",
        "def generate(text):\n",
        "  generator = pipeline('text-generation', model='gpt2')\n",
        "  set_seed(42)\n",
        "  generated_text = generator(text, max_length=30, num_return_sequences=1)\n",
        "  return generated_text[0][\"generated_text\"]\n",
        "\n",
        "examples = [[\"Once upon a time\"]]\n",
        "txt=grad.Textbox(lines=1, label=\"Your input\", placeholder=\"Once upon\")\n",
        "grad.Interface(generate, \n",
        "               inputs=txt, \n",
        "               outputs=\"text\",\n",
        "               examples=examples).launch()"
      ],
      "metadata": {
        "colab": {
          "base_uri": "https://localhost:8080/",
          "height": 619
        },
        "id": "zUI-DDq-E9mI",
        "outputId": "a192438a-1983-47c2-f3e7-09dc6981885b"
      },
      "execution_count": 13,
      "outputs": [
        {
          "output_type": "stream",
          "name": "stdout",
          "text": [
            "Colab notebook detected. To show errors in colab notebook, set debug=True in launch()\n",
            "Note: opening Chrome Inspector may crash demo inside Colab notebooks.\n",
            "\n",
            "To create a public link, set `share=True` in `launch()`.\n"
          ]
        },
        {
          "output_type": "display_data",
          "data": {
            "text/plain": [
              "<IPython.core.display.Javascript object>"
            ],
            "application/javascript": [
              "(async (port, path, width, height, cache, element) => {\n",
              "                        if (!google.colab.kernel.accessAllowed && !cache) {\n",
              "                            return;\n",
              "                        }\n",
              "                        element.appendChild(document.createTextNode(''));\n",
              "                        const url = await google.colab.kernel.proxyPort(port, {cache});\n",
              "\n",
              "                        const external_link = document.createElement('div');\n",
              "                        external_link.innerHTML = `\n",
              "                            <div style=\"font-family: monospace; margin-bottom: 0.5rem\">\n",
              "                                Running on <a href=${new URL(path, url).toString()} target=\"_blank\">\n",
              "                                    https://localhost:${port}${path}\n",
              "                                </a>\n",
              "                            </div>\n",
              "                        `;\n",
              "                        element.appendChild(external_link);\n",
              "\n",
              "                        const iframe = document.createElement('iframe');\n",
              "                        iframe.src = new URL(path, url).toString();\n",
              "                        iframe.height = height;\n",
              "                        iframe.allow = \"autoplay; camera; microphone; clipboard-read; clipboard-write;\"\n",
              "                        iframe.width = width;\n",
              "                        iframe.style.border = 0;\n",
              "                        element.appendChild(iframe);\n",
              "                    })(7862, \"/\", \"100%\", 500, false, window.element)"
            ]
          },
          "metadata": {}
        },
        {
          "output_type": "execute_result",
          "data": {
            "text/plain": []
          },
          "metadata": {},
          "execution_count": 13
        }
      ]
    },
    {
      "cell_type": "markdown",
      "source": [
        "##  Transformers for Text Summarization"
      ],
      "metadata": {
        "id": "Xmcs_22hKpxq"
      }
    },
    {
      "cell_type": "markdown",
      "source": [
        "We will now try a text summarization task. As pre-trained model we will rely on `deep-learning-analytics/wikihow-t5-small`. For more info on the model you can visit the [ModelHub](https://huggingface.co/deep-learning-analytics/wikihow-t5-small).\n",
        "\n",
        "**Create your own pipeline**\n",
        "\n",
        "Since the default pipelines only support limited scenarios we now look into how to create our own pipeline.\n",
        "\n",
        "In a text summarization task we have a piece of text as an input and would like to return a summary of this text. However, we cannot feed this input text directly into the language model. The language model expects a tensor with the IDs referring to the token indices.  For this we use a tokenizer that can help with (1) splitting the text into words and sub-words and (2) mapping each token to an integer.\n",
        "\n",
        "On a more technical level we use a `Tokenizer`, more specifically an `AutoTokenizer`, which we can instantiate from an existing file on the Hugging Face Hub (i.e., `tokenizer = AutoTokenizer.from_pretrained(model_name)`). \n",
        "\n",
        "A `Tokenizer` can then be used to encode the input text (here `text_input_sequence`) and provide the encoding required by the language model (e.g., `encoded_text = tokenizer.encode(text_input_sequence, return_tensors=\"pt\")`; `pt` stands for Pytorch). \n"
      ],
      "metadata": {
        "id": "kYzRXhxMK5zT"
      }
    },
    {
      "cell_type": "code",
      "source": [
        "from transformers import AutoTokenizer\n",
        "import gradio as grad\n",
        "\n",
        "model_name = \"deep-learning-analytics/wikihow-t5-small\" \n",
        "tokenizer = AutoTokenizer.from_pretrained(model_name)\n",
        "\n",
        "text_input_sequence = \"Hello, my name is Barbara\"\n",
        "#Longer text snippet for experimentation - taken from https://huggingface.co/deep-learning-analytics/wikihow-t5-small\n",
        "#text_input_sequence = \"\"\"Lack of fluids can lead to dry mouth, which is a leading cause of bad breath. Water can also dilute any chemicals in your mouth or gut that are causing bad breath., Studies show that eating 6 ounces of yogurt a day reduces the level of odor-causing compounds in the mouth. In particular, look for yogurt containing the active bacteria Streptococcus thermophilus or Lactobacillus bulgaricus., The abrasive nature of fibrous fruits and vegetables helps to clean teeth, while the vitamins, antioxidants, and acids they contain improve dental health.Foods that can be particularly helpful include:Apples — Apples contain vitamin C, which is necessary for health gums, as well as malic acid, which helps to whiten teeth.Carrots — Carrots are rich in vitamin A, which strengthens tooth enamel.Celery — Chewing celery produces a lot of saliva, which helps to neutralize bacteria that cause bad breath.Pineapples — Pineapples contain bromelain, an enzyme that cleans the mouth., These teas have been shown to kill the bacteria that cause bad breath and plaque., An upset stomach can lead to burping, which contributes to bad breath. Don’t eat foods that upset your stomach, or if you do, use antacids. If you are lactose intolerant, try lactase tablets., They can all cause bad breath. If you do eat them, bring sugar-free gum or a toothbrush and toothpaste to freshen your mouth afterwards., Diets low in carbohydrates lead to ketosis — a state in which the body burns primarily fat instead of carbohydrates for energy. This may be good for your waistline, but it also produces chemicals called ketones, which contribute to bad breath.To stop the problem, you must change your diet. Or, you can combat the smell in one of these ways:Drink lots of water to dilute the ketones.Chew sugarless gum or suck on sugarless mints.Chew mint leaves.\"\"\"\n",
        "encoded_text = tokenizer.encode(text_input_sequence,return_tensors=\"pt\") #pt for pytorch and tf for tensorflow\n",
        "print(encoded_text)\n",
        "\n",
        "#For testing purposes we use the method convert_ids_to_tokens to convert the ids into tokens\n",
        "tokens = tokenizer.convert_ids_to_tokens(encoded_text[0])\n",
        "print(tokens)\n"
      ],
      "metadata": {
        "colab": {
          "base_uri": "https://localhost:8080/",
          "height": 200,
          "referenced_widgets": [
            "842d38ce21984c82b5821efa89018e70",
            "11b3d3ef95164f919106d02b2ce6fa83",
            "9aa5819dc3914e51a47d8429f1200e00",
            "6d852a6b10774b9181345da6103c03c1",
            "2ced7c00d13e4836b6e3e838ca0c0c70",
            "be56c939cf8944a29e3edb40816ff135",
            "75d5544444b1468181fa2c090e236c10",
            "0ae46abff82e4836995a92f8f8bf165b",
            "04821974dc174171b20b283d69c0ea6a",
            "e9f52a82fa47438a8df8bb91f78f1644",
            "2087533c7bb246f49beea1dd8f9bd170",
            "3ff8da5cad9d431dae0127b76f2fa7e6",
            "c3288b30ad074b26b7ce3aeb58652e69",
            "b38720317e564ba09a90d58ff0e004a9",
            "0250cb1b784f4f2a89aec135fc4fe37c",
            "d157b6071ed94c79bc16ec854e03c3d5",
            "667644ea1e4b4728b89a8911a37ca848",
            "9a302a5047ed434980bd850ee0520be5",
            "6cb5f126ea2d4b20906347c716088a6d",
            "70cf8f56c7554bd393241524161320c4",
            "e6d565f5ed834f57899bb8ea446db2ab",
            "71fcd1e1662a4d399af14ba28a77c937",
            "08505aceb66b48aca30267500a3d7b0b",
            "6e7a49e94c664351abb981f7171c43d4",
            "2783f94424b847e0b9616a6d8b212154",
            "1109f29a84e548bb8451292f4ebac557",
            "b45383bcd7394965b0ee0b21c7130448",
            "29689218f53446ce890ac5fdd73788ee",
            "f99202f393dc433eac9fdcd8901d1bc1",
            "15ba75fa61b4470fb4cda5143126cc1d",
            "63de00681c6b4317a0a49ef8c30a7962",
            "47960c15d7a8459291b1d99754409679",
            "87f07130e0b14c3ba46d9aaf037688cd",
            "b443d64066a844f69e45e57431869f98",
            "e10a9f6f270746d986e54867903c5117",
            "fb8a272e9e3a4732be59208a7a056cee",
            "937ac428dcb842d180d9ace83faeacce",
            "621662243a9c4bfe994a4f976d78dbdf",
            "d7fae251388345be8502b14939b0d087",
            "bc5cb7bbbcf3474c84aa096ff26a5006",
            "78f56881c3ea4f3487ea46586ec252f2",
            "541adb0d66e64dec8275231fbe05db72",
            "db22de546fd740a6abf34ed2c11b5f22",
            "04d61687b0914cdba2bc0d674a9a5912"
          ]
        },
        "id": "4Qg229b5Y1lT",
        "outputId": "8eb73fd3-53e4-4388-cd77-e3f11ed78954"
      },
      "execution_count": null,
      "outputs": [
        {
          "output_type": "display_data",
          "data": {
            "text/plain": [
              "Downloading (…)okenizer_config.json:   0%|          | 0.00/25.0 [00:00<?, ?B/s]"
            ],
            "application/vnd.jupyter.widget-view+json": {
              "version_major": 2,
              "version_minor": 0,
              "model_id": "842d38ce21984c82b5821efa89018e70"
            }
          },
          "metadata": {}
        },
        {
          "output_type": "display_data",
          "data": {
            "text/plain": [
              "Downloading (…)lve/main/config.json:   0%|          | 0.00/736 [00:00<?, ?B/s]"
            ],
            "application/vnd.jupyter.widget-view+json": {
              "version_major": 2,
              "version_minor": 0,
              "model_id": "3ff8da5cad9d431dae0127b76f2fa7e6"
            }
          },
          "metadata": {}
        },
        {
          "output_type": "display_data",
          "data": {
            "text/plain": [
              "Downloading (…)ve/main/spiece.model:   0%|          | 0.00/792k [00:00<?, ?B/s]"
            ],
            "application/vnd.jupyter.widget-view+json": {
              "version_major": 2,
              "version_minor": 0,
              "model_id": "08505aceb66b48aca30267500a3d7b0b"
            }
          },
          "metadata": {}
        },
        {
          "output_type": "display_data",
          "data": {
            "text/plain": [
              "Downloading (…)cial_tokens_map.json:   0%|          | 0.00/1.79k [00:00<?, ?B/s]"
            ],
            "application/vnd.jupyter.widget-view+json": {
              "version_major": 2,
              "version_minor": 0,
              "model_id": "b443d64066a844f69e45e57431869f98"
            }
          },
          "metadata": {}
        },
        {
          "output_type": "stream",
          "name": "stdout",
          "text": [
            "tensor([[ 8774,     6,    82,   564,    19, 13163,     1]])\n",
            "['▁Hello', ',', '▁my', '▁name', '▁is', '▁Barbara', '</s>']\n",
            "Hello, my name is Barbara\n"
          ]
        }
      ]
    },
    {
      "cell_type": "markdown",
      "source": [
        "Now that we have looked into how a `Tokenizer` can be used, we will look into how we can use the language model to generate a summary. \n",
        "\n",
        "First we download a pre-trained model the same as we downloaded the tokenizer in the above step and instantiate the model. \n",
        "\n",
        "```\n",
        "model = AutoModelForSeq2SeqLM.from_pretrained(model_name)\n",
        "\n",
        "```\n",
        "Then we pass the encoded text as a tensor to the language model and use the model to generate the summary (i.e., `summary_ids`). The following parameters are used: \n",
        "\n",
        "*  `tkn_text` representing the tensor with the IDs\n",
        "*  `max_length` allows to restrict the length of the generated token\n",
        "* `num_beams` number of beams for beam search; default 1 (means no beam search)\n",
        "* `repetition_penalty` is the parameter for repetition penality; default 1.0 stands for no penalty \n",
        "* `length_penalty` is the parameter for the length penalty; values > 0 promote longer sequences; values < 0 shorter sequences\n",
        "* `early_stopping` defaults to False - When `True`, generation finishes if the EOS token is reached\n",
        "\n",
        "```\n",
        "summary_ids = model.generate(\n",
        "          tkn_text,\n",
        "          max_length=250, \n",
        "          num_beams=5,\n",
        "          repetition_penalty=2.5, \n",
        "          length_penalty=1.0, \n",
        "          early_stopping=True\n",
        ")\n",
        "```\n",
        "\n",
        "Finally, we use the `Tokenizer` to decode the result provided by the language model (i.e., the tensor with the IDs) into text, i.e., `tokens = tokenizer.decode(encoded_text[0], skip_special_tokens=True)`. "
      ],
      "metadata": {
        "id": "7pY1ZmQbrCDD"
      }
    },
    {
      "cell_type": "code",
      "source": [
        "from transformers import AutoTokenizer, AutoModelForSeq2SeqLM\n",
        "import gradio as grad\n",
        "\n",
        "# Define the model repo\n",
        "model_name = \"deep-learning-analytics/wikihow-t5-small\" \n",
        "\n",
        "# Download model\n",
        "txt2txt_tokenizer = AutoTokenizer.from_pretrained(model_name)\n",
        "model = AutoModelForSeq2SeqLM.from_pretrained(model_name)\n",
        "\n",
        "def text2text_summary(paragraph):\n",
        "    #Remove line breaks\n",
        "    initial_txt = paragraph.strip().replace(\"\\n\",\"\")\n",
        "    #Encode initial_text as tensor\n",
        "    tkn_text = txt2txt_tokenizer.encode(initial_txt,return_tensors=\"pt\") \n",
        "    #Generate summary using model\n",
        "    summary_ids = model.generate(\n",
        "            tkn_text,\n",
        "            max_length=250, \n",
        "            num_beams=5,\n",
        "            repetition_penalty=2.5, \n",
        "            length_penalty=1.0, \n",
        "            early_stopping=True\n",
        "    )\n",
        "    #print(summary_ids)\n",
        "    #Decode the list of IDs \n",
        "    response = txt2txt_tokenizer.decode(summary_ids[0], skip_special_tokens=True)\n",
        "    return response\n",
        "\n",
        "#Examples\n",
        "examples = [[\"Lack of fluids can lead to dry mouth, which is a leading cause of bad breath. Water can also dilute any chemicals in your mouth or gut that are causing bad breath., Studies show that eating 6 ounces of yogurt a day reduces the level of odor-causing compounds in the mouth. In particular, look for yogurt containing the active bacteria Streptococcus thermophilus or Lactobacillus bulgaricus., The abrasive nature of fibrous fruits and vegetables helps to clean teeth, while the vitamins, antioxidants, and acids they contain improve dental health.Foods that can be particularly helpful include:Apples — Apples contain vitamin C, which is necessary for health gums, as well as malic acid, which helps to whiten teeth.Carrots — Carrots are rich in vitamin A, which strengthens tooth enamel.Celery — Chewing celery produces a lot of saliva, which helps to neutralize bacteria that cause bad breath.Pineapples — Pineapples contain bromelain, an enzyme that cleans the mouth., These teas have been shown to kill the bacteria that cause bad breath and plaque., An upset stomach can lead to burping, which contributes to bad breath. Don’t eat foods that upset your stomach, or if you do, use antacids. If you are lactose intolerant, try lactase tablets., They can all cause bad breath. If you do eat them, bring sugar-free gum or a toothbrush and toothpaste to freshen your mouth afterwards., Diets low in carbohydrates lead to ketosis — a state in which the body burns primarily fat instead of carbohydrates for energy. This may be good for your waistline, but it also produces chemicals called ketones, which contribute to bad breath.To stop the problem, you must change your diet. Or, you can combat the smell in one of these ways:Drink lots of water to dilute the ketones.Chew sugarless gum or suck on sugarless mints.Chew mint leaves.\"]]\n",
        "\n",
        "\n",
        "#Gradio User Interface\n",
        "para=grad.Textbox(lines=10, label=\"Paragraph\", placeholder=\"Add your text here\")\n",
        "out=grad.Textbox(lines=1,label=\"Summary\")\n",
        "grad.Interface(text2text_summary, \n",
        "               inputs=para, \n",
        "               outputs=out, \n",
        "               examples=examples).launch(debug=True)\n",
        "\n"
      ],
      "metadata": {
        "id": "PpLogMKsENBF",
        "colab": {
          "base_uri": "https://localhost:8080/",
          "height": 638
        },
        "outputId": "4e6ed068-a187-429a-971a-4931f4af4fea"
      },
      "execution_count": 10,
      "outputs": [
        {
          "output_type": "stream",
          "name": "stdout",
          "text": [
            "Colab notebook detected. This cell will run indefinitely so that you can see errors and logs. To turn off, set debug=False in launch().\n",
            "Note: opening Chrome Inspector may crash demo inside Colab notebooks.\n",
            "\n",
            "To create a public link, set `share=True` in `launch()`.\n"
          ]
        },
        {
          "output_type": "display_data",
          "data": {
            "text/plain": [
              "<IPython.core.display.Javascript object>"
            ],
            "application/javascript": [
              "(async (port, path, width, height, cache, element) => {\n",
              "                        if (!google.colab.kernel.accessAllowed && !cache) {\n",
              "                            return;\n",
              "                        }\n",
              "                        element.appendChild(document.createTextNode(''));\n",
              "                        const url = await google.colab.kernel.proxyPort(port, {cache});\n",
              "\n",
              "                        const external_link = document.createElement('div');\n",
              "                        external_link.innerHTML = `\n",
              "                            <div style=\"font-family: monospace; margin-bottom: 0.5rem\">\n",
              "                                Running on <a href=${new URL(path, url).toString()} target=\"_blank\">\n",
              "                                    https://localhost:${port}${path}\n",
              "                                </a>\n",
              "                            </div>\n",
              "                        `;\n",
              "                        element.appendChild(external_link);\n",
              "\n",
              "                        const iframe = document.createElement('iframe');\n",
              "                        iframe.src = new URL(path, url).toString();\n",
              "                        iframe.height = height;\n",
              "                        iframe.allow = \"autoplay; camera; microphone; clipboard-read; clipboard-write;\"\n",
              "                        iframe.width = width;\n",
              "                        iframe.style.border = 0;\n",
              "                        element.appendChild(iframe);\n",
              "                    })(7862, \"/\", \"100%\", 500, false, window.element)"
            ]
          },
          "metadata": {}
        },
        {
          "output_type": "stream",
          "name": "stdout",
          "text": [
            "Keyboard interruption in main thread... closing server.\n"
          ]
        },
        {
          "output_type": "execute_result",
          "data": {
            "text/plain": []
          },
          "metadata": {},
          "execution_count": 10
        }
      ]
    },
    {
      "cell_type": "markdown",
      "source": [
        "## Creating a Chatbot/Dialog Bot"
      ],
      "metadata": {
        "id": "FdNPiBY1OyBZ"
      }
    },
    {
      "cell_type": "markdown",
      "source": [
        "We will now create a chatbot with HuggingFace Transformers. \n",
        "\n",
        "First of all, we load a tokenizer and a model instance for a specific variant of DialoGPT (e.g., `microsoft/DialoGPT-large`, `microsoft/DialoGPT-medium` or `microsoft/DialoGPT-small`). The tokenizer will help with encoding and decoding and the model will be used to generate responses. For our purposes we will use the `AutoTokenizer` and the `AutoModelForCausalLM`. \n",
        "\n",
        "Then we define a function `converse`. Using the tokenizer, the model, and the chat_history, a response to the user input is generated. In a first step, the user input and an End-of-String (EOS) token are encoded. Then in a second step, these are appended to the chat history. The 1000 most recent tokens (i.e.,  `max_length=1000`) are then used in a third step by DialogGPT for generating responses. Finally, the response is then decoded and transformed into tuples (i.e., pairs of user input and corresponding answer by the bot) as needed by the user interface."
      ],
      "metadata": {
        "id": "BoY9GUBao0bi"
      }
    },
    {
      "cell_type": "code",
      "source": [
        "from transformers import AutoModelForCausalLM, AutoTokenizer\n",
        "import torch\n",
        "\n",
        "tokenizer = AutoTokenizer.from_pretrained(\"microsoft/DialoGPT-large\")\n",
        "model = AutoModelForCausalLM.from_pretrained(\"microsoft/DialoGPT-large\")\n",
        "\n",
        "def converse(user_input, chat_history=[]):\n",
        "    # encode the new user input, add the eos_token and return a tensor in Pytorch\n",
        "    user_input_ids = tokenizer.encode(user_input,tokenizer.eos_token,return_tensors='pt')\n",
        " \n",
        "    # append the new user input tokens to the chat history\n",
        "    bot_input_ids = torch.cat([torch.LongTensor(chat_history), user_input_ids], dim=-1) \n",
        "    \n",
        "    # generated a response while limiting the total chat history to 1000 tokens, \n",
        "    chat_history = model.generate(bot_input_ids, max_length=1000, pad_token_id=tokenizer.eos_token_id).tolist()\n",
        "    #print(chat_history)\n",
        "\n",
        "    response = tokenizer.decode(chat_history[0]).split(\"<|endoftext|>\")\n",
        "    #print(response) \n",
        "   \n",
        "    # convert to tuples of list\n",
        "    response = [(response[i], response[i+1]) for i in range(0, len(response)-1, 2)]  \n",
        "    #print(response) \n",
        "   \n",
        "    return response, chat_history\n",
        "\n",
        "\n",
        "import gradio as gr\n",
        "gr.Interface(fn=converse,\n",
        "             theme=\"default\",\n",
        "             inputs=[gr.Textbox(placeholder=\"Let's chat\"), \"state\"],\n",
        "             outputs=[\"chatbot\", \"state\"]).launch(debug=False)\n"
      ],
      "metadata": {
        "id": "WbHhcQiyO1Mk"
      },
      "execution_count": null,
      "outputs": []
    },
    {
      "cell_type": "markdown",
      "source": [
        "Now that we have seen how a chatbot can be created using the Transformers libary, we will use Gradio to automatically create a user interface for two different models (`microsoft/DialoGPT-large` and `facebook/blenderbot-400M-distill`). This requires very little programming skills. At the same time there is less possibility to configure the chatbot.\n"
      ],
      "metadata": {
        "id": "y3gW35jFElEU"
      }
    },
    {
      "cell_type": "code",
      "source": [
        "import gradio as grad\n",
        "grad.Interface.load(\"huggingface/microsoft/DialoGPT-large\").launch()"
      ],
      "metadata": {
        "id": "hNDA9uHYDmu0"
      },
      "execution_count": null,
      "outputs": []
    },
    {
      "cell_type": "code",
      "source": [
        "import gradio as grad\n",
        "grad.Interface.load(\"huggingface/facebook/blenderbot-400M-distill\").launch()"
      ],
      "metadata": {
        "id": "k79Jm4-YEOWw"
      },
      "execution_count": null,
      "outputs": []
    },
    {
      "cell_type": "markdown",
      "source": [
        "## Combining Label Detection with Translation"
      ],
      "metadata": {
        "id": "p8YKzKLR5-Hd"
      }
    },
    {
      "cell_type": "markdown",
      "source": [
        "We will now combine the code for label detection via an existing API you already know from the previous session with a translation task."
      ],
      "metadata": {
        "id": "1cWG00ij7LiW"
      }
    },
    {
      "cell_type": "code",
      "source": [
        "# Install the Google Cloud Vision library that allows us to make request to the Google Cloud Vision API\n",
        "!pip install google-cloud-vision"
      ],
      "metadata": {
        "id": "QGLOAmJT44OE"
      },
      "execution_count": null,
      "outputs": []
    },
    {
      "cell_type": "code",
      "source": [
        "# Import the libraries\n",
        "from google.cloud import vision\n",
        "import os"
      ],
      "metadata": {
        "id": "V-s5W4bX48DB"
      },
      "execution_count": null,
      "outputs": []
    },
    {
      "cell_type": "code",
      "source": [
        "# Using the GOOGLE_APPLICATION_CREDENTIALS environment variable the location of a credential JSON file can be provided. \n",
        "os.environ['GOOGLE_APPLICATION_CREDENTIALS'] = 'My Project-543e6ed386ee.json'"
      ],
      "metadata": {
        "id": "3qDuDNKH487B"
      },
      "execution_count": null,
      "outputs": []
    },
    {
      "cell_type": "code",
      "source": [
        "# Instantiate the client (this only works with the credantials correctly set)\n",
        "client = vision.ImageAnnotatorClient()"
      ],
      "metadata": {
        "id": "7hfbrJOo5BR9"
      },
      "execution_count": null,
      "outputs": []
    },
    {
      "cell_type": "code",
      "source": [
        "#Import libraries\n",
        "from PIL import Image as PillowImage\n",
        "import io"
      ],
      "metadata": {
        "id": "C6c2R_wv-xRo"
      },
      "execution_count": null,
      "outputs": []
    },
    {
      "cell_type": "code",
      "source": [
        "# Adapted from https://stackoverflow.com/questions/33101935/convert-pil-image-to-byte-array\n",
        "# Conversion of image into byte array\n",
        "def image_to_byte_array(filePath) -> bytes:\n",
        "  #Open File as PIL Image\n",
        "  pil = PillowImage.open(filePath, \"r\")   \n",
        "  # BytesIO is a fake file stored in memory\n",
        "  imgByteArr = io.BytesIO()\n",
        "  # image.save expects a file as a argument, passing BytesIO object\n",
        "  pil.save(imgByteArr, format=pil.format)\n",
        "  # Turn the BytesIO object back into a bytes object\n",
        "  imgByteArr = imgByteArr.getvalue()\n",
        "  return imgByteArr"
      ],
      "metadata": {
        "id": "fqrg1jnI-tg6"
      },
      "execution_count": null,
      "outputs": []
    },
    {
      "cell_type": "code",
      "source": [
        "from transformers import pipeline\n",
        "\n",
        "def detect_and_translate_text(filePath, translator):\n",
        "  image = vision.Image()\n",
        "  image.content = image_to_byte_array(filePath)\n",
        "  response_text = client.text_detection(image=image)\n",
        "\n",
        "  text=\"\"\n",
        "  if response_text.text_annotations:\n",
        "    text = response_text.text_annotations[0].description\n",
        "  \n",
        "  #Translate output of label detection\n",
        "  mdl_name = \"Helsinki-NLP/opus-mt-de-en\"\n",
        "  translator = pipeline(\"translation\", model=mdl_name)\n",
        "  response = translator(text)\n",
        "  \n",
        "  return response"
      ],
      "metadata": {
        "id": "-WlwQ2T-5EEH"
      },
      "execution_count": null,
      "outputs": []
    },
    {
      "cell_type": "code",
      "source": [
        "import gradio as grad\n",
        "demo = grad.Interface(\n",
        "    detect_and_translate_text, \n",
        "    inputs=grad.Image(type=\"filepath\"),\n",
        "    outputs = grad.TextArea()\n",
        ")\n",
        "demo.launch(debug=True)"
      ],
      "metadata": {
        "colab": {
          "base_uri": "https://localhost:8080/",
          "height": 803
        },
        "id": "l9lDfvlk-jPe",
        "outputId": "ccf8c34d-4d4f-4100-fd6a-fc5ea1631dee"
      },
      "execution_count": null,
      "outputs": [
        {
          "output_type": "stream",
          "name": "stderr",
          "text": [
            "/usr/local/lib/python3.8/dist-packages/gradio/utils.py:805: UserWarning: Expected 2 arguments for function <function detect_and_translate_text at 0x7f932b0f8940>, received 1.\n",
            "  warnings.warn(\n",
            "/usr/local/lib/python3.8/dist-packages/gradio/utils.py:809: UserWarning: Expected at least 2 arguments for function <function detect_and_translate_text at 0x7f932b0f8940>, received 1.\n",
            "  warnings.warn(\n"
          ]
        },
        {
          "output_type": "stream",
          "name": "stdout",
          "text": [
            "Colab notebook detected. This cell will run indefinitely so that you can see errors and logs. To turn off, set debug=False in launch().\n",
            "Note: opening Chrome Inspector may crash demo inside Colab notebooks.\n",
            "\n",
            "To create a public link, set `share=True` in `launch()`.\n"
          ]
        },
        {
          "output_type": "display_data",
          "data": {
            "text/plain": [
              "<IPython.core.display.Javascript object>"
            ],
            "application/javascript": [
              "(async (port, path, width, height, cache, element) => {\n",
              "                        if (!google.colab.kernel.accessAllowed && !cache) {\n",
              "                            return;\n",
              "                        }\n",
              "                        element.appendChild(document.createTextNode(''));\n",
              "                        const url = await google.colab.kernel.proxyPort(port, {cache});\n",
              "\n",
              "                        const external_link = document.createElement('div');\n",
              "                        external_link.innerHTML = `\n",
              "                            <div style=\"font-family: monospace; margin-bottom: 0.5rem\">\n",
              "                                Running on <a href=${new URL(path, url).toString()} target=\"_blank\">\n",
              "                                    https://localhost:${port}${path}\n",
              "                                </a>\n",
              "                            </div>\n",
              "                        `;\n",
              "                        element.appendChild(external_link);\n",
              "\n",
              "                        const iframe = document.createElement('iframe');\n",
              "                        iframe.src = new URL(path, url).toString();\n",
              "                        iframe.height = height;\n",
              "                        iframe.allow = \"autoplay; camera; microphone; clipboard-read; clipboard-write;\"\n",
              "                        iframe.width = width;\n",
              "                        iframe.style.border = 0;\n",
              "                        element.appendChild(iframe);\n",
              "                    })(7861, \"/\", \"100%\", 500, false, window.element)"
            ]
          },
          "metadata": {}
        },
        {
          "output_type": "stream",
          "name": "stderr",
          "text": [
            "/usr/local/lib/python3.8/dist-packages/gradio/helpers.py:626: UserWarning: Unexpected argument. Filling with None.\n",
            "  warnings.warn(\"Unexpected argument. Filling with None.\")\n",
            "/usr/local/lib/python3.8/dist-packages/transformers/models/marian/tokenization_marian.py:194: UserWarning: Recommended: pip install sacremoses.\n",
            "  warnings.warn(\"Recommended: pip install sacremoses.\")\n"
          ]
        },
        {
          "output_type": "stream",
          "name": "stdout",
          "text": [
            "Keyboard interruption in main thread... closing server.\n"
          ]
        },
        {
          "output_type": "execute_result",
          "data": {
            "text/plain": []
          },
          "metadata": {},
          "execution_count": 23
        }
      ]
    },
    {
      "cell_type": "markdown",
      "source": [
        "## Exercise"
      ],
      "metadata": {
        "id": "qWtiHCXyD8LC"
      }
    },
    {
      "cell_type": "markdown",
      "source": [
        "Now try for yourself and get your hands dirty.\n",
        "\n",
        "Modify the example to translate from english to spanish. Search the [ModelHub](https://huggingface.co/models) to find a model which allows translating from english to spanish."
      ],
      "metadata": {
        "id": "aQ1r4o3CD7vG"
      }
    },
    {
      "cell_type": "code",
      "source": [
        "##Add your code to translate from English to Spanish here including the user interface\n",
        "\n",
        "##from transformers import pipeline\n",
        "##import gradio as grad\n",
        "##mdl_name = \"Helsinki-NLP/opus-mt-en-es\"\n",
        "##opus_translator = pipeline(\"translation\", model=mdl_name)\n",
        "##grad.Interface.from_pipeline(opus_translator).launch()\n"
      ],
      "metadata": {
        "id": "foDZ-RVz82QD"
      },
      "execution_count": null,
      "outputs": []
    },
    {
      "cell_type": "markdown",
      "source": [
        "Now try to create a user interface for image classifcation. Use the pipeline abstraction with task `image-classification`. As model use `google/mobilenet_v2_1.0_224`.\n"
      ],
      "metadata": {
        "id": "0u8SwvHjF51i"
      }
    },
    {
      "cell_type": "code",
      "source": [
        "##Add your code for image classification here \n",
        "\n",
        "##from transformers import pipeline\n",
        "##classifier = pipeline(\"image-classification\", model=\"google/mobilenet_v2_1.0_224\")\n",
        "##grad.Interface.from_pipeline(classifier).launch()"
      ],
      "metadata": {
        "id": "TEp0GtfK-cYS"
      },
      "execution_count": null,
      "outputs": []
    }
  ]
}